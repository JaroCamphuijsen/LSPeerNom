{
 "cells": [
  {
   "cell_type": "code",
   "execution_count": 14,
   "id": "82016407-f782-46f9-ac4b-dd91b72e5164",
   "metadata": {},
   "outputs": [],
   "source": [
    "import pandas as pd\n",
    "from pathlib import Path\n"
   ]
  },
  {
   "cell_type": "code",
   "execution_count": 15,
   "id": "98ac6e90-69e3-4db9-95fc-ec50f940359e",
   "metadata": {},
   "outputs": [],
   "source": [
    "participant_data_path = \"/home/jaro/NLeSC/QANS/qans-example-data\"\n",
    "participant_input_filename = \"test-participant-tokens.csv\"\n",
    "classmates_column_name = \" attribute_1 <comma separated classmates>\""
   ]
  },
  {
   "cell_type": "code",
   "execution_count": 16,
   "id": "cf05f81a-e6dd-450f-beef-cc89b90dcf8e",
   "metadata": {},
   "outputs": [],
   "source": [
    "participant_data_path = Path(participant_data_path)\n",
    "participant_input_filename = participant_data_path / participant_input_filename\n",
    "participants_df = pd.read_csv(participant_input_filename)"
   ]
  },
  {
   "cell_type": "code",
   "execution_count": 17,
   "id": "2546fa76-4210-48b9-a552-fa6c684ab526",
   "metadata": {},
   "outputs": [],
   "source": [
    "for i, participant in participants_df.iterrows():\n",
    "    participants_df.at[i,classmates_column_name] = participants_df.drop(i).firstname.sample(frac=1).str.cat(sep=', ')"
   ]
  },
  {
   "cell_type": "code",
   "execution_count": 18,
   "id": "90175539-3f98-4ada-b46d-5034c2643785",
   "metadata": {},
   "outputs": [],
   "source": [
    "participants_df[\"language\"] = \"nl\""
   ]
  },
  {
   "cell_type": "code",
   "execution_count": 19,
   "id": "c2a994c2-00fb-4f6f-85d9-e408a57d1804",
   "metadata": {},
   "outputs": [
    {
     "data": {
      "text/html": [
       "<div>\n",
       "<style scoped>\n",
       "    .dataframe tbody tr th:only-of-type {\n",
       "        vertical-align: middle;\n",
       "    }\n",
       "\n",
       "    .dataframe tbody tr th {\n",
       "        vertical-align: top;\n",
       "    }\n",
       "\n",
       "    .dataframe thead th {\n",
       "        text-align: right;\n",
       "    }\n",
       "</style>\n",
       "<table border=\"1\" class=\"dataframe\">\n",
       "  <thead>\n",
       "    <tr style=\"text-align: right;\">\n",
       "      <th></th>\n",
       "      <th>Unnamed: 0</th>\n",
       "      <th>tid</th>\n",
       "      <th>firstname</th>\n",
       "      <th>lastname</th>\n",
       "      <th>email</th>\n",
       "      <th>emailstatus</th>\n",
       "      <th>token</th>\n",
       "      <th>language</th>\n",
       "      <th>validfrom</th>\n",
       "      <th>validuntil</th>\n",
       "      <th>invited</th>\n",
       "      <th>reminded</th>\n",
       "      <th>remindercount</th>\n",
       "      <th>completed</th>\n",
       "      <th>usesleft</th>\n",
       "      <th>attribute_1 &lt;comma separated classmates&gt;</th>\n",
       "    </tr>\n",
       "  </thead>\n",
       "  <tbody>\n",
       "    <tr>\n",
       "      <th>0</th>\n",
       "      <td>0</td>\n",
       "      <td>1</td>\n",
       "      <td>Jaro</td>\n",
       "      <td>NaN</td>\n",
       "      <td>NaN</td>\n",
       "      <td>OK</td>\n",
       "      <td>1</td>\n",
       "      <td>nl</td>\n",
       "      <td>NaN</td>\n",
       "      <td>NaN</td>\n",
       "      <td>N</td>\n",
       "      <td>N</td>\n",
       "      <td>0</td>\n",
       "      <td>N</td>\n",
       "      <td>997</td>\n",
       "      <td>Sanyogita, John, Loes, Hubert, Toon</td>\n",
       "    </tr>\n",
       "    <tr>\n",
       "      <th>1</th>\n",
       "      <td>1</td>\n",
       "      <td>2</td>\n",
       "      <td>Loes</td>\n",
       "      <td>NaN</td>\n",
       "      <td>NaN</td>\n",
       "      <td>OK</td>\n",
       "      <td>2</td>\n",
       "      <td>nl</td>\n",
       "      <td>NaN</td>\n",
       "      <td>NaN</td>\n",
       "      <td>N</td>\n",
       "      <td>N</td>\n",
       "      <td>0</td>\n",
       "      <td>N</td>\n",
       "      <td>998</td>\n",
       "      <td>Hubert, Sanyogita, Jaro, John, Toon</td>\n",
       "    </tr>\n",
       "    <tr>\n",
       "      <th>2</th>\n",
       "      <td>2</td>\n",
       "      <td>3</td>\n",
       "      <td>Toon</td>\n",
       "      <td>NaN</td>\n",
       "      <td>NaN</td>\n",
       "      <td>OK</td>\n",
       "      <td>3</td>\n",
       "      <td>nl</td>\n",
       "      <td>NaN</td>\n",
       "      <td>NaN</td>\n",
       "      <td>N</td>\n",
       "      <td>N</td>\n",
       "      <td>0</td>\n",
       "      <td>N</td>\n",
       "      <td>1000</td>\n",
       "      <td>Sanyogita, Loes, Jaro, John, Hubert</td>\n",
       "    </tr>\n",
       "    <tr>\n",
       "      <th>3</th>\n",
       "      <td>3</td>\n",
       "      <td>4</td>\n",
       "      <td>Sanyogita</td>\n",
       "      <td>NaN</td>\n",
       "      <td>NaN</td>\n",
       "      <td>OK</td>\n",
       "      <td>4</td>\n",
       "      <td>nl</td>\n",
       "      <td>NaN</td>\n",
       "      <td>NaN</td>\n",
       "      <td>N</td>\n",
       "      <td>N</td>\n",
       "      <td>0</td>\n",
       "      <td>N</td>\n",
       "      <td>100</td>\n",
       "      <td>Hubert, Toon, Loes, John, Jaro</td>\n",
       "    </tr>\n",
       "    <tr>\n",
       "      <th>4</th>\n",
       "      <td>4</td>\n",
       "      <td>5</td>\n",
       "      <td>John</td>\n",
       "      <td>NaN</td>\n",
       "      <td>NaN</td>\n",
       "      <td>OK</td>\n",
       "      <td>5</td>\n",
       "      <td>nl</td>\n",
       "      <td>NaN</td>\n",
       "      <td>NaN</td>\n",
       "      <td>N</td>\n",
       "      <td>N</td>\n",
       "      <td>0</td>\n",
       "      <td>N</td>\n",
       "      <td>100</td>\n",
       "      <td>Sanyogita, Loes, Hubert, Toon, Jaro</td>\n",
       "    </tr>\n",
       "    <tr>\n",
       "      <th>5</th>\n",
       "      <td>5</td>\n",
       "      <td>6</td>\n",
       "      <td>Hubert</td>\n",
       "      <td>NaN</td>\n",
       "      <td>NaN</td>\n",
       "      <td>OK</td>\n",
       "      <td>6</td>\n",
       "      <td>nl</td>\n",
       "      <td>NaN</td>\n",
       "      <td>NaN</td>\n",
       "      <td>N</td>\n",
       "      <td>N</td>\n",
       "      <td>0</td>\n",
       "      <td>N</td>\n",
       "      <td>1</td>\n",
       "      <td>Toon, John, Jaro, Sanyogita, Loes</td>\n",
       "    </tr>\n",
       "  </tbody>\n",
       "</table>\n",
       "</div>"
      ],
      "text/plain": [
       "   Unnamed: 0  tid  firstname  lastname  email emailstatus  token language  \\\n",
       "0           0    1       Jaro       NaN    NaN          OK      1       nl   \n",
       "1           1    2       Loes       NaN    NaN          OK      2       nl   \n",
       "2           2    3       Toon       NaN    NaN          OK      3       nl   \n",
       "3           3    4  Sanyogita       NaN    NaN          OK      4       nl   \n",
       "4           4    5       John       NaN    NaN          OK      5       nl   \n",
       "5           5    6     Hubert       NaN    NaN          OK      6       nl   \n",
       "\n",
       "   validfrom  validuntil invited reminded  remindercount completed  usesleft  \\\n",
       "0        NaN         NaN       N        N              0         N       997   \n",
       "1        NaN         NaN       N        N              0         N       998   \n",
       "2        NaN         NaN       N        N              0         N      1000   \n",
       "3        NaN         NaN       N        N              0         N       100   \n",
       "4        NaN         NaN       N        N              0         N       100   \n",
       "5        NaN         NaN       N        N              0         N         1   \n",
       "\n",
       "   attribute_1 <comma separated classmates>  \n",
       "0       Sanyogita, John, Loes, Hubert, Toon  \n",
       "1       Hubert, Sanyogita, Jaro, John, Toon  \n",
       "2       Sanyogita, Loes, Jaro, John, Hubert  \n",
       "3            Hubert, Toon, Loes, John, Jaro  \n",
       "4       Sanyogita, Loes, Hubert, Toon, Jaro  \n",
       "5         Toon, John, Jaro, Sanyogita, Loes  "
      ]
     },
     "execution_count": 19,
     "metadata": {},
     "output_type": "execute_result"
    }
   ],
   "source": [
    "participants_df"
   ]
  },
  {
   "cell_type": "code",
   "execution_count": 20,
   "id": "9ce5cac2-ba45-4ac3-909a-97c38e4119d9",
   "metadata": {},
   "outputs": [
    {
     "name": "stdout",
     "output_type": "stream",
     "text": [
      "/home/jaro/NLeSC/QANS/qans-example-data/test-participant-tokens_with_classmates.csv\n"
     ]
    }
   ],
   "source": [
    "participant_output_filename = participant_input_filename.with_stem(participant_input_filename.stem + \"_with_classmates\")\n",
    "print(participant_output_filename)\n",
    "participants_df.to_csv(participant_output_filename)"
   ]
  },
  {
   "cell_type": "markdown",
   "id": "9cc389e1-3646-4316-b457-e7012a3f62f1",
   "metadata": {},
   "source": [
    "# tinyurl.com/demo-ls-2024-10-03"
   ]
  },
  {
   "cell_type": "code",
   "execution_count": null,
   "id": "385ab8a8-4240-41a6-9a87-4c78ef4e78f8",
   "metadata": {},
   "outputs": [],
   "source": []
  }
 ],
 "metadata": {
  "kernelspec": {
   "display_name": "Python 3 (ipykernel)",
   "language": "python",
   "name": "python3"
  },
  "language_info": {
   "codemirror_mode": {
    "name": "ipython",
    "version": 3
   },
   "file_extension": ".py",
   "mimetype": "text/x-python",
   "name": "python",
   "nbconvert_exporter": "python",
   "pygments_lexer": "ipython3",
   "version": "3.12.3"
  }
 },
 "nbformat": 4,
 "nbformat_minor": 5
}
